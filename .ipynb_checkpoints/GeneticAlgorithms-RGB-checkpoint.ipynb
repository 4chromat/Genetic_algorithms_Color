{
 "cells": [
  {
   "cell_type": "code",
   "execution_count": null,
   "metadata": {
    "collapsed": false
   },
   "outputs": [],
   "source": [
    "%matplotlib inline\n",
    "import matplotlib.pyplot as plt\n",
    "import numpy as np\n",
    "from random import random\n",
    "import matplotlib.colors as colors\n",
    "from sklearn.metrics import mean_squared_error\n",
    "from math import sqrt\n",
    "import seaborn as sns"
   ]
  },
  {
   "cell_type": "markdown",
   "metadata": {},
   "source": [
    "# Genetic Algorithm Functions"
   ]
  },
  {
   "cell_type": "code",
   "execution_count": null,
   "metadata": {
    "collapsed": true
   },
   "outputs": [],
   "source": [
    "def get_individual():\n",
    "    \"\"\"\n",
    "    #'Create a member (candidate solution) of the population, \n",
    "    # ie '000111001110100101000001'\n",
    "    \"\"\"\n",
    "    return [ ''.join(str(x) for x in np.random.choice(2, 24)) ]"
   ]
  },
  {
   "cell_type": "code",
   "execution_count": null,
   "metadata": {
    "collapsed": false
   },
   "outputs": [],
   "source": [
    "get_individual()"
   ]
  },
  {
   "cell_type": "code",
   "execution_count": null,
   "metadata": {
    "collapsed": true
   },
   "outputs": [],
   "source": [
    "def get_population(count=1000):\n",
    "    \"\"\"\n",
    "    Create a population (collection of individuals/solutions).\n",
    "    count: the number of individuals in the population\n",
    "    \"\"\"\n",
    "    return [ get_individual() for x in xrange(count) ]"
   ]
  },
  {
   "cell_type": "code",
   "execution_count": null,
   "metadata": {
    "collapsed": false
   },
   "outputs": [],
   "source": [
    "p = get_population(count=10)\n",
    "p"
   ]
  },
  {
   "cell_type": "code",
   "execution_count": null,
   "metadata": {
    "collapsed": true
   },
   "outputs": [],
   "source": [
    "def fitness(individual):\n",
    "    \"\"\"\n",
    "    Determine the fitness of an individual/solution. Closer to target (51,255,255) the better.\n",
    "    individual: the individual to evaluate\n",
    "    \"\"\"\n",
    "    R = int(individual[:8],2)\n",
    "    G = int(individual[8:16], 2)\n",
    "    B = int(individual[16:], 2)\n",
    "    \n",
    "    score = sqrt(mean_squared_error([R,G,B],target))\n",
    "    \n",
    "    return score"
   ]
  },
  {
   "cell_type": "code",
   "execution_count": null,
   "metadata": {
    "collapsed": true
   },
   "outputs": [],
   "source": [
    "# Cyan (51,255,255) \n",
    "target = (51,255,255)  \n",
    "# in binary is 00110011 11111111 11111111 "
   ]
  },
  {
   "cell_type": "code",
   "execution_count": null,
   "metadata": {
    "collapsed": false
   },
   "outputs": [],
   "source": [
    "# Comapre each individuals fitness\n",
    "fitness('111011110000100011000000')"
   ]
  },
  {
   "cell_type": "code",
   "execution_count": null,
   "metadata": {
    "collapsed": false
   },
   "outputs": [],
   "source": [
    "fitness('001011111111101011111111')"
   ]
  },
  {
   "cell_type": "code",
   "execution_count": null,
   "metadata": {
    "collapsed": true
   },
   "outputs": [],
   "source": [
    "def population_score(population):\n",
    "    \"\"\"\n",
    "    Find average fitness for a population.\n",
    "    pop: population, collection of individuals/solutions, as list.\n",
    "    target: satisfactory level of fitness.\n",
    "    \"\"\" \n",
    "    pop_scores = [fitness(x[0]) for x in population]\n",
    "    \n",
    "    return np.mean(pop_scores)"
   ]
  },
  {
   "cell_type": "code",
   "execution_count": null,
   "metadata": {
    "collapsed": false
   },
   "outputs": [],
   "source": [
    "# Average of fitness scores\n",
    "population_score(p)"
   ]
  },
  {
   "cell_type": "markdown",
   "metadata": {},
   "source": [
    "### Putting it all together:"
   ]
  },
  {
   "cell_type": "code",
   "execution_count": null,
   "metadata": {
    "collapsed": true
   },
   "outputs": [],
   "source": [
    "def evolve_all(population=get_population(), survivors=0.6, mutation_rate=0.01, random_selection=0.05):    \n",
    "    \"\"\"\n",
    "    Evolve a population of individuals/solutions until a target fitness is met, or a max number of\n",
    "        iterations is reached. .\n",
    "    max_gens: max num of generations to test.\n",
    "    survivors: fraction of individuals that will pass their genes to the next generation\n",
    "    random_selection: probability of new individuals entering the population.\n",
    "    mutation: probability of mutation.\n",
    "    \"\"\"\n",
    "    \n",
    "    # Rank the fitness of each individual in the current generation.\n",
    "    # The smaller the score (RMSE) the better.\n",
    "    rank = [ (fitness(x[0]), x ) for x in population ]\n",
    "\n",
    "    print 'Individuals rank:\\n  Fitness          Individual'\n",
    "    for ind in sorted(rank):\n",
    "        print '%f  -- %s' % (ind[0], ind[1][0])\n",
    "        \n",
    "    rank = [ x[1] for x in sorted(rank)]\n",
    "    \n",
    "    # Select the top fit individuals to compose the next generation\n",
    "    num_survivors = int(len(rank)*survivors)\n",
    "    parents = rank[:num_survivors]\n",
    "    \n",
    "    # Randomnly keep other individuals in the pool, for the sake of diversity\n",
    "    for individual in rank[num_survivors:]:\n",
    "        if random_selection > random():\n",
    "            parents.append(individual)\n",
    "            \n",
    "    # Mutate some of the parental solutions\n",
    "    # Each bit has a 100 * mutation_rate % chance to flip\n",
    "    for p_idx in range(0,len(parents)):\n",
    "        genes = list(parents[p_idx][0])\n",
    "        for g_idx in range(0,len(genes)):\n",
    "            if mutation_rate > random():\n",
    "                print 'Mutation!!'\n",
    "                genes[g_idx] = str(1 - int(genes[g_idx]))\n",
    "        parents[p_idx] = [''.join(genes)]\n",
    "        \n",
    "    # Crossover parental solutions to create new ones\n",
    "    parents_length = len(parents)\n",
    "    open_spots = len(population) - parents_length\n",
    "    new_solutions = []\n",
    "    \n",
    "    while len(new_solutions) < open_spots:\n",
    "        parent_1 = np.random.randint(0, parents_length-1)\n",
    "        parent_2 = np.random.randint(0, parents_length-1)\n",
    "        if parent_1 != parent_2:\n",
    "            parent_1 = parents[parent_1]\n",
    "            parent_2 = parents[parent_2]\n",
    "            # Randomly set crossover spot\n",
    "            split = np.random.randint(1,24)\n",
    "            child = parent_1[:split] + parent_2[split:]\n",
    "            new_solutions.append(child)\n",
    "            \n",
    "    # New population composed by survivor solutions+ new solutions\n",
    "    parents.extend(new_solutions)\n",
    "    \n",
    "    return parents"
   ]
  },
  {
   "cell_type": "markdown",
   "metadata": {},
   "source": [
    "# Plotting Functions"
   ]
  },
  {
   "cell_type": "code",
   "execution_count": null,
   "metadata": {
    "collapsed": false
   },
   "outputs": [],
   "source": [
    "def plot_fitness(fitness_history):\n",
    "    \"\"\"\n",
    "    Plot the average fitness across generations\n",
    "    \"\"\"\n",
    "    generations = range(0,len(fitness_history))\n",
    "    plt.plot(generations, fitness_history, label=\"Fitness\")\n",
    "    plt.plot(generations, [tolerance]*len(generations), color='r', linestyle='--',label=(\"Target\")) \n",
    "    plt.xlim([0,len(generations)])\n",
    "    plt.ylim([0,max(fitness_history)+20])\n",
    "    plt.title('Fitness per generation (RMSE)')\n",
    "    plt.xlabel('Generations')\n",
    "    plt.ylabel('Fitness')\n",
    "    plt.legend()"
   ]
  },
  {
   "cell_type": "code",
   "execution_count": null,
   "metadata": {
    "collapsed": false
   },
   "outputs": [],
   "source": [
    "def rgb_to_hex(rgb_tuple):\n",
    "    \"\"\"\n",
    "    Convert RGB to Hex color code for plotting\n",
    "    \"\"\"\n",
    "    return colors.rgb2hex([ 1.0 * x /255 for x in rgb_tuple])\n",
    "\n",
    "\n",
    "def bin_to_hex(individual):\n",
    "    \"\"\"\n",
    "    Convert a binary string (len 24) to RGB\n",
    "    \"\"\"\n",
    "    R = int(individual[:8],2)\n",
    "    G = int(individual[8:16], 2)\n",
    "    B = int(individual[16:], 2)\n",
    "    \n",
    "    hex_col = colors.rgb2hex([ 1.0 * x /255 for x in (R,G,B)])\n",
    "    \n",
    "    return hex_col"
   ]
  },
  {
   "cell_type": "code",
   "execution_count": null,
   "metadata": {
    "collapsed": false
   },
   "outputs": [],
   "source": [
    "# Magenta\n",
    "bin_to_hex('111111110000000011111111')"
   ]
  },
  {
   "cell_type": "code",
   "execution_count": null,
   "metadata": {
    "collapsed": false
   },
   "outputs": [],
   "source": [
    "rgb_to_hex((255,0,255))"
   ]
  },
  {
   "cell_type": "code",
   "execution_count": null,
   "metadata": {
    "collapsed": false
   },
   "outputs": [],
   "source": [
    "def plot_evolution(all_Ps, surv, mut_rate):\n",
    "    \"\"\"\n",
    "    Plot a colored progression of the population towards target fitness\n",
    "    \"\"\"\n",
    "    plt.figure(figsize=(18,5))\n",
    "    for i,p in enumerate(all_Ps):\n",
    "        cols = map(lambda x: bin_to_hex(x[0]), p[0])   \n",
    "        # All populations stored in a list of lists\n",
    "        plt.scatter([i]*len(p[0]), range(0,len(p[0])),marker='s', s=400, color=cols)\n",
    "    plt.title('Evolution of algorithm with %2.0f/100 survival and %2.2f mutation rate per bit' % (surv*100,mut_rate))\n",
    "    plt.xlabel('Generation')\n",
    "    plt.ylabel('Individuals')\n",
    "    plt.xlim([-1,len(all_Ps)])\n",
    "    plt.ylim([-1,len(p[0])])\n",
    "    plt.show()"
   ]
  },
  {
   "cell_type": "markdown",
   "metadata": {},
   "source": [
    "# Give it a try..."
   ]
  },
  {
   "cell_type": "code",
   "execution_count": null,
   "metadata": {
    "collapsed": false
   },
   "outputs": [],
   "source": [
    "target          = [51,255,255]  # Cyan\n",
    "tolerance       = 30            # Aimed fitness value\n",
    "max_generations = 1000          # Max iterations\n",
    "n_individuals   = 100           # Number of solutions\n",
    "frac_survivors  = 0.8           # Fraction of survivors per generation\n",
    "mut_rate        = 0.02          # Change of mutation per gene (bit)\n",
    "\n",
    "# Time zero space of solutions\n",
    "P = get_population(count=n_individuals)    \n",
    "all_Ps = [[P]]\n",
    "\n",
    "# Track of fitness over time\n",
    "fitness_history = [population_score(population=P)]   # Fitness of the populaiton (average)\n",
    "\n",
    "# Go...\n",
    "for generation in range(1,max_generations+1):\n",
    "    # Evolve them:\n",
    "    P = evolve_all(population=P,survivors=frac_survivors, mutation_rate=mut_rate, random_selection=0.05)\n",
    "    \n",
    "    # Score population fitness and keep populations in record\n",
    "    fitness_history.append(population_score(population=P))\n",
    "    all_Ps.append([P])\n",
    "    \n",
    "    # Update to screen\n",
    "    print '\\nGeneration: %d, Population fitness: %f' % (generation, fitness_history[-1])\n",
    "    \n",
    "    # Terminate if target is met\n",
    "    if fitness_history[-1] < tolerance:\n",
    "        break"
   ]
  },
  {
   "cell_type": "code",
   "execution_count": null,
   "metadata": {
    "collapsed": false,
    "scrolled": true
   },
   "outputs": [],
   "source": [
    "plot_fitness(fitness_history)"
   ]
  },
  {
   "cell_type": "code",
   "execution_count": null,
   "metadata": {
    "collapsed": false
   },
   "outputs": [],
   "source": [
    "plot_evolution(all_Ps, frac_survivors, mut_rate)"
   ]
  },
  {
   "cell_type": "code",
   "execution_count": null,
   "metadata": {
    "collapsed": true
   },
   "outputs": [],
   "source": []
  }
 ],
 "metadata": {
  "kernelspec": {
   "display_name": "Python 2",
   "language": "python",
   "name": "python2"
  },
  "language_info": {
   "codemirror_mode": {
    "name": "ipython",
    "version": 2
   },
   "file_extension": ".py",
   "mimetype": "text/x-python",
   "name": "python",
   "nbconvert_exporter": "python",
   "pygments_lexer": "ipython2",
   "version": "2.7.12"
  }
 },
 "nbformat": 4,
 "nbformat_minor": 0
}
